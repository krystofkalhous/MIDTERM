{
 "cells": [
  {
   "cell_type": "code",
   "execution_count": 4,
   "id": "f89aec00",
   "metadata": {},
   "outputs": [],
   "source": [
    "import sys\n",
    "import pandas as pd\n",
    "\n",
    "import numpy as np"
   ]
  },
  {
   "cell_type": "code",
   "execution_count": 156,
   "id": "06c21afa",
   "metadata": {},
   "outputs": [],
   "source": [
    "data_CNC = pd.read_csv('/Users/krystofkalhous/Desktop/Python Data IES/MIDTERM/data/CNC.csv', sep = ',', on_bad_lines= 'skip')\n",
    "data_EQR = pd.read_csv('/Users/krystofkalhous/Desktop/Python Data IES/MIDTERM/data/EQR.csv', sep = ',', on_bad_lines= 'skip')\n",
    "data_IVZ = pd.read_csv('/Users/krystofkalhous/Desktop/Python Data IES/MIDTERM/data/IVZ.csv', sep = ',', on_bad_lines= 'skip')\n",
    "data_TRV = pd.read_csv('/Users/krystofkalhous/Desktop/Python Data IES/MIDTERM/data/TRV.csv', sep = ',', on_bad_lines= 'skip')"
   ]
  },
  {
   "cell_type": "code",
   "execution_count": 157,
   "id": "a9a992f2",
   "metadata": {},
   "outputs": [
    {
     "data": {
      "text/html": [
       "<div>\n",
       "<style scoped>\n",
       "    .dataframe tbody tr th:only-of-type {\n",
       "        vertical-align: middle;\n",
       "    }\n",
       "\n",
       "    .dataframe tbody tr th {\n",
       "        vertical-align: top;\n",
       "    }\n",
       "\n",
       "    .dataframe thead th {\n",
       "        text-align: right;\n",
       "    }\n",
       "</style>\n",
       "<table border=\"1\" class=\"dataframe\">\n",
       "  <thead>\n",
       "    <tr style=\"text-align: right;\">\n",
       "      <th></th>\n",
       "      <th>Date</th>\n",
       "      <th>High</th>\n",
       "      <th>Low</th>\n",
       "      <th>Open</th>\n",
       "      <th>Close</th>\n",
       "      <th>Volume</th>\n",
       "      <th>Adj Close</th>\n",
       "    </tr>\n",
       "  </thead>\n",
       "  <tbody>\n",
       "    <tr>\n",
       "      <th>0</th>\n",
       "      <td>2017-11-13</td>\n",
       "      <td>135.440002</td>\n",
       "      <td>133.199997</td>\n",
       "      <td>135.160004</td>\n",
       "      <td>133.320007</td>\n",
       "      <td>2742700.0</td>\n",
       "      <td>120.533607</td>\n",
       "    </tr>\n",
       "    <tr>\n",
       "      <th>1</th>\n",
       "      <td>2017-11-14</td>\n",
       "      <td>133.979996</td>\n",
       "      <td>131.690002</td>\n",
       "      <td>132.850006</td>\n",
       "      <td>133.860001</td>\n",
       "      <td>1812200.0</td>\n",
       "      <td>121.021782</td>\n",
       "    </tr>\n",
       "    <tr>\n",
       "      <th>2</th>\n",
       "      <td>2017-11-15</td>\n",
       "      <td>134.199997</td>\n",
       "      <td>132.750000</td>\n",
       "      <td>133.119995</td>\n",
       "      <td>133.710007</td>\n",
       "      <td>1837900.0</td>\n",
       "      <td>120.886192</td>\n",
       "    </tr>\n",
       "    <tr>\n",
       "      <th>3</th>\n",
       "      <td>2017-11-16</td>\n",
       "      <td>133.559998</td>\n",
       "      <td>130.660004</td>\n",
       "      <td>133.380005</td>\n",
       "      <td>130.809998</td>\n",
       "      <td>2375800.0</td>\n",
       "      <td>118.264328</td>\n",
       "    </tr>\n",
       "    <tr>\n",
       "      <th>4</th>\n",
       "      <td>2017-11-17</td>\n",
       "      <td>130.789993</td>\n",
       "      <td>129.720001</td>\n",
       "      <td>130.669998</td>\n",
       "      <td>129.919998</td>\n",
       "      <td>2372100.0</td>\n",
       "      <td>117.459679</td>\n",
       "    </tr>\n",
       "    <tr>\n",
       "      <th>...</th>\n",
       "      <td>...</td>\n",
       "      <td>...</td>\n",
       "      <td>...</td>\n",
       "      <td>...</td>\n",
       "      <td>...</td>\n",
       "      <td>...</td>\n",
       "      <td>...</td>\n",
       "    </tr>\n",
       "    <tr>\n",
       "      <th>1254</th>\n",
       "      <td>2022-11-07</td>\n",
       "      <td>184.539993</td>\n",
       "      <td>182.919998</td>\n",
       "      <td>183.750000</td>\n",
       "      <td>184.130005</td>\n",
       "      <td>1273000.0</td>\n",
       "      <td>184.130005</td>\n",
       "    </tr>\n",
       "    <tr>\n",
       "      <th>1255</th>\n",
       "      <td>2022-11-08</td>\n",
       "      <td>185.649994</td>\n",
       "      <td>183.279999</td>\n",
       "      <td>183.429993</td>\n",
       "      <td>184.899994</td>\n",
       "      <td>1184400.0</td>\n",
       "      <td>184.899994</td>\n",
       "    </tr>\n",
       "    <tr>\n",
       "      <th>1256</th>\n",
       "      <td>2022-11-09</td>\n",
       "      <td>185.669998</td>\n",
       "      <td>181.919998</td>\n",
       "      <td>185.220001</td>\n",
       "      <td>182.149994</td>\n",
       "      <td>999200.0</td>\n",
       "      <td>182.149994</td>\n",
       "    </tr>\n",
       "    <tr>\n",
       "      <th>1257</th>\n",
       "      <td>2022-11-10</td>\n",
       "      <td>185.119995</td>\n",
       "      <td>181.380005</td>\n",
       "      <td>184.889999</td>\n",
       "      <td>183.300003</td>\n",
       "      <td>1618000.0</td>\n",
       "      <td>183.300003</td>\n",
       "    </tr>\n",
       "    <tr>\n",
       "      <th>1258</th>\n",
       "      <td>2022-11-11</td>\n",
       "      <td>185.580002</td>\n",
       "      <td>180.210007</td>\n",
       "      <td>184.679993</td>\n",
       "      <td>181.729996</td>\n",
       "      <td>1403300.0</td>\n",
       "      <td>181.729996</td>\n",
       "    </tr>\n",
       "  </tbody>\n",
       "</table>\n",
       "<p>1259 rows × 7 columns</p>\n",
       "</div>"
      ],
      "text/plain": [
       "            Date        High         Low        Open       Close     Volume  \\\n",
       "0     2017-11-13  135.440002  133.199997  135.160004  133.320007  2742700.0   \n",
       "1     2017-11-14  133.979996  131.690002  132.850006  133.860001  1812200.0   \n",
       "2     2017-11-15  134.199997  132.750000  133.119995  133.710007  1837900.0   \n",
       "3     2017-11-16  133.559998  130.660004  133.380005  130.809998  2375800.0   \n",
       "4     2017-11-17  130.789993  129.720001  130.669998  129.919998  2372100.0   \n",
       "...          ...         ...         ...         ...         ...        ...   \n",
       "1254  2022-11-07  184.539993  182.919998  183.750000  184.130005  1273000.0   \n",
       "1255  2022-11-08  185.649994  183.279999  183.429993  184.899994  1184400.0   \n",
       "1256  2022-11-09  185.669998  181.919998  185.220001  182.149994   999200.0   \n",
       "1257  2022-11-10  185.119995  181.380005  184.889999  183.300003  1618000.0   \n",
       "1258  2022-11-11  185.580002  180.210007  184.679993  181.729996  1403300.0   \n",
       "\n",
       "       Adj Close  \n",
       "0     120.533607  \n",
       "1     121.021782  \n",
       "2     120.886192  \n",
       "3     118.264328  \n",
       "4     117.459679  \n",
       "...          ...  \n",
       "1254  184.130005  \n",
       "1255  184.899994  \n",
       "1256  182.149994  \n",
       "1257  183.300003  \n",
       "1258  181.729996  \n",
       "\n",
       "[1259 rows x 7 columns]"
      ]
     },
     "execution_count": 157,
     "metadata": {},
     "output_type": "execute_result"
    }
   ],
   "source": [
    "data_TRV"
   ]
  },
  {
   "cell_type": "code",
   "execution_count": 158,
   "id": "402a0c6f",
   "metadata": {},
   "outputs": [],
   "source": [
    "# Task 1 -> its CNC"
   ]
  },
  {
   "cell_type": "code",
   "execution_count": 159,
   "id": "d555ad04",
   "metadata": {},
   "outputs": [
    {
     "data": {
      "text/plain": [
       "True"
      ]
     },
     "execution_count": 159,
     "metadata": {},
     "output_type": "execute_result"
    }
   ],
   "source": [
    "sum(data_CNC['Close'] == data_CNC['Adj Close']) == len(data_CNC['Close']) "
   ]
  },
  {
   "cell_type": "code",
   "execution_count": 160,
   "id": "cac0bdb4",
   "metadata": {},
   "outputs": [
    {
     "data": {
      "text/plain": [
       "False"
      ]
     },
     "execution_count": 160,
     "metadata": {},
     "output_type": "execute_result"
    }
   ],
   "source": [
    "sum(data_EQR['Close'] == data_EQR['Adj Close']) == len(data_EQR['Close'])"
   ]
  },
  {
   "cell_type": "code",
   "execution_count": 161,
   "id": "5dcf0018",
   "metadata": {},
   "outputs": [
    {
     "data": {
      "text/plain": [
       "False"
      ]
     },
     "execution_count": 161,
     "metadata": {},
     "output_type": "execute_result"
    }
   ],
   "source": [
    "sum(data_IVZ['Close'] == data_IVZ['Adj Close']) == len(data_IVZ['Close'])"
   ]
  },
  {
   "cell_type": "code",
   "execution_count": 162,
   "id": "f5ba456b",
   "metadata": {},
   "outputs": [
    {
     "data": {
      "text/plain": [
       "False"
      ]
     },
     "execution_count": 162,
     "metadata": {},
     "output_type": "execute_result"
    }
   ],
   "source": [
    "sum(data_TRV['Close'] == data_TRV['Adj Close']) == len(data_TRV['Close'])"
   ]
  },
  {
   "cell_type": "code",
   "execution_count": 163,
   "id": "e0fb90ac",
   "metadata": {},
   "outputs": [],
   "source": [
    "# Task 2"
   ]
  },
  {
   "cell_type": "code",
   "execution_count": 164,
   "id": "3d6281ee",
   "metadata": {},
   "outputs": [
    {
     "name": "stdout",
     "output_type": "stream",
     "text": [
      "            Date       High        Low       Open      Close      Volume  \\\n",
      "amin  2017-11-13  43.279999  41.619999  42.470001  42.730000         0.0   \n",
      "amax  2022-11-11  98.529999  96.010002  96.940002  97.220001  35998400.0   \n",
      "\n",
      "      Adj Close  \n",
      "amin  42.730000  \n",
      "amax  97.220001  \n",
      "            Date       High        Low       Open      Close      Volume  \\\n",
      "amin  2017-11-13  46.759998  45.430000  46.000000  46.240002    377800.0   \n",
      "amax  2022-11-11  94.320000  92.919998  93.410004  93.239998  10968000.0   \n",
      "\n",
      "      Adj Close  \n",
      "amin  44.409389  \n",
      "amax  93.239998  \n",
      "            Date   High        Low       Open      Close      Volume  \\\n",
      "amin  2017-11-13   6.86   6.380000   6.570000   6.700000    637900.0   \n",
      "amax  2022-11-11  38.43  37.919998  38.259998  38.400002  42380800.0   \n",
      "\n",
      "      Adj Close  \n",
      "amin   6.301448  \n",
      "amax  30.653969  \n",
      "            Date        High         Low        Open       Close     Volume  \\\n",
      "amin  2017-11-13   86.449997   76.989998   81.160004   81.690002   305400.0   \n",
      "amax  2022-11-11  187.979996  185.559998  187.979996  187.750000  5949500.0   \n",
      "\n",
      "       Adj Close  \n",
      "amin   78.264015  \n",
      "amax  187.750000  \n"
     ]
    }
   ],
   "source": [
    "print(data_CNC.aggregate([np.min, np.max], axis = 0))\n",
    "print(data_EQR.aggregate([np.min, np.max], axis = 0))\n",
    "print(data_IVZ.aggregate([np.min, np.max], axis = 0))\n",
    "print(data_TRV.aggregate([np.min, np.max], axis = 0))"
   ]
  },
  {
   "cell_type": "code",
   "execution_count": 165,
   "id": "4611f4aa",
   "metadata": {},
   "outputs": [],
   "source": [
    "# Task 3"
   ]
  },
  {
   "cell_type": "code",
   "execution_count": 166,
   "id": "a086ee15",
   "metadata": {},
   "outputs": [],
   "source": [
    "data_CNC['log_returns_on_Adj_Close'] = np.log2(data_CNC['Adj Close'])\n",
    "data_EQR['log_returns_on_Adj_Close'] = np.log2(data_EQR['Adj Close'])\n",
    "data_IVZ['log_returns_on_Adj_Close'] = np.log2(data_IVZ['Adj Close'])\n",
    "data_TRV['log_returns_on_Adj_Close'] = np.log2(data_TRV['Adj Close'])"
   ]
  },
  {
   "cell_type": "code",
   "execution_count": 167,
   "id": "5e1eb355",
   "metadata": {},
   "outputs": [
    {
     "data": {
      "text/html": [
       "<div>\n",
       "<style scoped>\n",
       "    .dataframe tbody tr th:only-of-type {\n",
       "        vertical-align: middle;\n",
       "    }\n",
       "\n",
       "    .dataframe tbody tr th {\n",
       "        vertical-align: top;\n",
       "    }\n",
       "\n",
       "    .dataframe thead th {\n",
       "        text-align: right;\n",
       "    }\n",
       "</style>\n",
       "<table border=\"1\" class=\"dataframe\">\n",
       "  <thead>\n",
       "    <tr style=\"text-align: right;\">\n",
       "      <th></th>\n",
       "      <th>High</th>\n",
       "      <th>Low</th>\n",
       "      <th>Open</th>\n",
       "      <th>Close</th>\n",
       "      <th>Volume</th>\n",
       "      <th>Adj Close</th>\n",
       "      <th>log_returns_on_Adj_Close</th>\n",
       "    </tr>\n",
       "  </thead>\n",
       "  <tbody>\n",
       "    <tr>\n",
       "      <th>count</th>\n",
       "      <td>1259.000000</td>\n",
       "      <td>1259.000000</td>\n",
       "      <td>1259.000000</td>\n",
       "      <td>1259.000000</td>\n",
       "      <td>1.259000e+03</td>\n",
       "      <td>1259.000000</td>\n",
       "      <td>1259.000000</td>\n",
       "    </tr>\n",
       "    <tr>\n",
       "      <th>mean</th>\n",
       "      <td>142.674194</td>\n",
       "      <td>139.981485</td>\n",
       "      <td>141.369499</td>\n",
       "      <td>141.370151</td>\n",
       "      <td>1.476046e+06</td>\n",
       "      <td>135.968458</td>\n",
       "      <td>7.068218</td>\n",
       "    </tr>\n",
       "    <tr>\n",
       "      <th>std</th>\n",
       "      <td>19.600272</td>\n",
       "      <td>19.639500</td>\n",
       "      <td>19.618416</td>\n",
       "      <td>19.602595</td>\n",
       "      <td>6.497105e+05</td>\n",
       "      <td>21.983248</td>\n",
       "      <td>0.234383</td>\n",
       "    </tr>\n",
       "    <tr>\n",
       "      <th>min</th>\n",
       "      <td>86.449997</td>\n",
       "      <td>76.989998</td>\n",
       "      <td>81.160004</td>\n",
       "      <td>81.690002</td>\n",
       "      <td>3.054000e+05</td>\n",
       "      <td>78.264015</td>\n",
       "      <td>6.290277</td>\n",
       "    </tr>\n",
       "    <tr>\n",
       "      <th>25%</th>\n",
       "      <td>130.345001</td>\n",
       "      <td>128.590004</td>\n",
       "      <td>129.580002</td>\n",
       "      <td>129.549995</td>\n",
       "      <td>1.064350e+06</td>\n",
       "      <td>119.378220</td>\n",
       "      <td>6.899396</td>\n",
       "    </tr>\n",
       "    <tr>\n",
       "      <th>50%</th>\n",
       "      <td>139.940002</td>\n",
       "      <td>137.699997</td>\n",
       "      <td>138.970001</td>\n",
       "      <td>139.000000</td>\n",
       "      <td>1.324500e+06</td>\n",
       "      <td>131.222122</td>\n",
       "      <td>7.035867</td>\n",
       "    </tr>\n",
       "    <tr>\n",
       "      <th>75%</th>\n",
       "      <td>157.169998</td>\n",
       "      <td>154.355003</td>\n",
       "      <td>156.000000</td>\n",
       "      <td>155.745003</td>\n",
       "      <td>1.690350e+06</td>\n",
       "      <td>154.477364</td>\n",
       "      <td>7.271252</td>\n",
       "    </tr>\n",
       "    <tr>\n",
       "      <th>max</th>\n",
       "      <td>187.979996</td>\n",
       "      <td>185.559998</td>\n",
       "      <td>187.979996</td>\n",
       "      <td>187.750000</td>\n",
       "      <td>5.949500e+06</td>\n",
       "      <td>187.750000</td>\n",
       "      <td>7.552669</td>\n",
       "    </tr>\n",
       "  </tbody>\n",
       "</table>\n",
       "</div>"
      ],
      "text/plain": [
       "              High          Low         Open        Close        Volume  \\\n",
       "count  1259.000000  1259.000000  1259.000000  1259.000000  1.259000e+03   \n",
       "mean    142.674194   139.981485   141.369499   141.370151  1.476046e+06   \n",
       "std      19.600272    19.639500    19.618416    19.602595  6.497105e+05   \n",
       "min      86.449997    76.989998    81.160004    81.690002  3.054000e+05   \n",
       "25%     130.345001   128.590004   129.580002   129.549995  1.064350e+06   \n",
       "50%     139.940002   137.699997   138.970001   139.000000  1.324500e+06   \n",
       "75%     157.169998   154.355003   156.000000   155.745003  1.690350e+06   \n",
       "max     187.979996   185.559998   187.979996   187.750000  5.949500e+06   \n",
       "\n",
       "         Adj Close  log_returns_on_Adj_Close  \n",
       "count  1259.000000               1259.000000  \n",
       "mean    135.968458                  7.068218  \n",
       "std      21.983248                  0.234383  \n",
       "min      78.264015                  6.290277  \n",
       "25%     119.378220                  6.899396  \n",
       "50%     131.222122                  7.035867  \n",
       "75%     154.477364                  7.271252  \n",
       "max     187.750000                  7.552669  "
      ]
     },
     "execution_count": 167,
     "metadata": {},
     "output_type": "execute_result"
    }
   ],
   "source": [
    "# I get the values from here\n",
    "\n",
    "data_CNC.describe()\n",
    "data_EQR.describe()\n",
    "data_IVZ.describe()\n",
    "data_TRV.describe()"
   ]
  },
  {
   "cell_type": "code",
   "execution_count": 168,
   "id": "ad826193",
   "metadata": {},
   "outputs": [],
   "source": [
    "# Task 4"
   ]
  },
  {
   "cell_type": "code",
   "execution_count": 169,
   "id": "951a2313",
   "metadata": {},
   "outputs": [
    {
     "ename": "KeyError",
     "evalue": "'log_returns'",
     "output_type": "error",
     "traceback": [
      "\u001b[0;31m---------------------------------------------------------------------------\u001b[0m",
      "\u001b[0;31mKeyError\u001b[0m                                  Traceback (most recent call last)",
      "File \u001b[0;32m~/anaconda3/lib/python3.11/site-packages/pandas/core/indexes/base.py:3653\u001b[0m, in \u001b[0;36mIndex.get_loc\u001b[0;34m(self, key)\u001b[0m\n\u001b[1;32m   3652\u001b[0m \u001b[38;5;28;01mtry\u001b[39;00m:\n\u001b[0;32m-> 3653\u001b[0m     \u001b[38;5;28;01mreturn\u001b[39;00m \u001b[38;5;28mself\u001b[39m\u001b[38;5;241m.\u001b[39m_engine\u001b[38;5;241m.\u001b[39mget_loc(casted_key)\n\u001b[1;32m   3654\u001b[0m \u001b[38;5;28;01mexcept\u001b[39;00m \u001b[38;5;167;01mKeyError\u001b[39;00m \u001b[38;5;28;01mas\u001b[39;00m err:\n",
      "File \u001b[0;32m~/anaconda3/lib/python3.11/site-packages/pandas/_libs/index.pyx:147\u001b[0m, in \u001b[0;36mpandas._libs.index.IndexEngine.get_loc\u001b[0;34m()\u001b[0m\n",
      "File \u001b[0;32m~/anaconda3/lib/python3.11/site-packages/pandas/_libs/index.pyx:176\u001b[0m, in \u001b[0;36mpandas._libs.index.IndexEngine.get_loc\u001b[0;34m()\u001b[0m\n",
      "File \u001b[0;32mpandas/_libs/hashtable_class_helper.pxi:7080\u001b[0m, in \u001b[0;36mpandas._libs.hashtable.PyObjectHashTable.get_item\u001b[0;34m()\u001b[0m\n",
      "File \u001b[0;32mpandas/_libs/hashtable_class_helper.pxi:7088\u001b[0m, in \u001b[0;36mpandas._libs.hashtable.PyObjectHashTable.get_item\u001b[0;34m()\u001b[0m\n",
      "\u001b[0;31mKeyError\u001b[0m: 'log_returns'",
      "\nThe above exception was the direct cause of the following exception:\n",
      "\u001b[0;31mKeyError\u001b[0m                                  Traceback (most recent call last)",
      "Cell \u001b[0;32mIn[169], line 1\u001b[0m\n\u001b[0;32m----> 1\u001b[0m \u001b[38;5;28mprint\u001b[39m(data_CNC[\u001b[38;5;124m'\u001b[39m\u001b[38;5;124mlog_returns\u001b[39m\u001b[38;5;124m'\u001b[39m]\u001b[38;5;241m.\u001b[39midxmax())\n\u001b[1;32m      2\u001b[0m \u001b[38;5;28mprint\u001b[39m(data_CNC[\u001b[38;5;124m'\u001b[39m\u001b[38;5;124mlog_returns\u001b[39m\u001b[38;5;124m'\u001b[39m]\u001b[38;5;241m.\u001b[39midxmin())\n\u001b[1;32m      3\u001b[0m data_CNC\u001b[38;5;241m.\u001b[39miloc[\u001b[38;5;241m1195\u001b[39m] \u001b[38;5;66;03m#max\u001b[39;00m\n",
      "File \u001b[0;32m~/anaconda3/lib/python3.11/site-packages/pandas/core/frame.py:3761\u001b[0m, in \u001b[0;36mDataFrame.__getitem__\u001b[0;34m(self, key)\u001b[0m\n\u001b[1;32m   3759\u001b[0m \u001b[38;5;28;01mif\u001b[39;00m \u001b[38;5;28mself\u001b[39m\u001b[38;5;241m.\u001b[39mcolumns\u001b[38;5;241m.\u001b[39mnlevels \u001b[38;5;241m>\u001b[39m \u001b[38;5;241m1\u001b[39m:\n\u001b[1;32m   3760\u001b[0m     \u001b[38;5;28;01mreturn\u001b[39;00m \u001b[38;5;28mself\u001b[39m\u001b[38;5;241m.\u001b[39m_getitem_multilevel(key)\n\u001b[0;32m-> 3761\u001b[0m indexer \u001b[38;5;241m=\u001b[39m \u001b[38;5;28mself\u001b[39m\u001b[38;5;241m.\u001b[39mcolumns\u001b[38;5;241m.\u001b[39mget_loc(key)\n\u001b[1;32m   3762\u001b[0m \u001b[38;5;28;01mif\u001b[39;00m is_integer(indexer):\n\u001b[1;32m   3763\u001b[0m     indexer \u001b[38;5;241m=\u001b[39m [indexer]\n",
      "File \u001b[0;32m~/anaconda3/lib/python3.11/site-packages/pandas/core/indexes/base.py:3655\u001b[0m, in \u001b[0;36mIndex.get_loc\u001b[0;34m(self, key)\u001b[0m\n\u001b[1;32m   3653\u001b[0m     \u001b[38;5;28;01mreturn\u001b[39;00m \u001b[38;5;28mself\u001b[39m\u001b[38;5;241m.\u001b[39m_engine\u001b[38;5;241m.\u001b[39mget_loc(casted_key)\n\u001b[1;32m   3654\u001b[0m \u001b[38;5;28;01mexcept\u001b[39;00m \u001b[38;5;167;01mKeyError\u001b[39;00m \u001b[38;5;28;01mas\u001b[39;00m err:\n\u001b[0;32m-> 3655\u001b[0m     \u001b[38;5;28;01mraise\u001b[39;00m \u001b[38;5;167;01mKeyError\u001b[39;00m(key) \u001b[38;5;28;01mfrom\u001b[39;00m \u001b[38;5;21;01merr\u001b[39;00m\n\u001b[1;32m   3656\u001b[0m \u001b[38;5;28;01mexcept\u001b[39;00m \u001b[38;5;167;01mTypeError\u001b[39;00m:\n\u001b[1;32m   3657\u001b[0m     \u001b[38;5;66;03m# If we have a listlike key, _check_indexing_error will raise\u001b[39;00m\n\u001b[1;32m   3658\u001b[0m     \u001b[38;5;66;03m#  InvalidIndexError. Otherwise we fall through and re-raise\u001b[39;00m\n\u001b[1;32m   3659\u001b[0m     \u001b[38;5;66;03m#  the TypeError.\u001b[39;00m\n\u001b[1;32m   3660\u001b[0m     \u001b[38;5;28mself\u001b[39m\u001b[38;5;241m.\u001b[39m_check_indexing_error(key)\n",
      "\u001b[0;31mKeyError\u001b[0m: 'log_returns'"
     ]
    }
   ],
   "source": [
    "print(data_CNC['log_returns'].idxmax())\n",
    "print(data_CNC['log_returns'].idxmin())\n",
    "data_CNC.iloc[1195] #max\n",
    "data_CNC.iloc[473] # min"
   ]
  },
  {
   "cell_type": "code",
   "execution_count": 170,
   "id": "f27fd563",
   "metadata": {},
   "outputs": [
    {
     "name": "stdout",
     "output_type": "stream",
     "text": [
      "1116\n",
      "744\n"
     ]
    },
    {
     "data": {
      "text/plain": [
       "Date                        2020-10-28\n",
       "High                         48.389999\n",
       "Low                          45.540001\n",
       "Open                         48.389999\n",
       "Close                        46.240002\n",
       "Volume                       6954800.0\n",
       "Adj Close                    44.409389\n",
       "log_returns_on_Adj_Close      5.472793\n",
       "Name: 744, dtype: object"
      ]
     },
     "execution_count": 170,
     "metadata": {},
     "output_type": "execute_result"
    }
   ],
   "source": [
    "print(data_EQR['log_returns_on_Adj_Close'].idxmax())\n",
    "print(data_EQR['log_returns_on_Adj_Close'].idxmin())\n",
    "data_EQR.iloc[1116] #max\n",
    "data_EQR.iloc[744] #min"
   ]
  },
  {
   "cell_type": "code",
   "execution_count": 171,
   "id": "0b8614c0",
   "metadata": {},
   "outputs": [
    {
     "name": "stdout",
     "output_type": "stream",
     "text": [
      "50\n",
      "629\n"
     ]
    },
    {
     "data": {
      "text/plain": [
       "Date                        2020-05-15\n",
       "High                              6.86\n",
       "Low                               6.63\n",
       "Open                              6.65\n",
       "Close                              6.7\n",
       "Volume                      11654300.0\n",
       "Adj Close                     6.301448\n",
       "log_returns_on_Adj_Close      2.655683\n",
       "Name: 629, dtype: object"
      ]
     },
     "execution_count": 171,
     "metadata": {},
     "output_type": "execute_result"
    }
   ],
   "source": [
    "print(data_IVZ['log_returns_on_Adj_Close'].idxmax())\n",
    "print(data_IVZ['log_returns_on_Adj_Close'].idxmin())\n",
    "data_IVZ.iloc[50] #max\n",
    "data_IVZ.iloc[629] #min"
   ]
  },
  {
   "cell_type": "code",
   "execution_count": 172,
   "id": "78df36b9",
   "metadata": {},
   "outputs": [
    {
     "name": "stdout",
     "output_type": "stream",
     "text": [
      "1098\n",
      "588\n"
     ]
    },
    {
     "data": {
      "text/plain": [
       "Date                        2020-03-18\n",
       "High                              93.5\n",
       "Low                          76.989998\n",
       "Open                             90.25\n",
       "Close                        81.690002\n",
       "Volume                       3939100.0\n",
       "Adj Close                    78.264015\n",
       "log_returns_on_Adj_Close      6.290277\n",
       "Name: 588, dtype: object"
      ]
     },
     "execution_count": 172,
     "metadata": {},
     "output_type": "execute_result"
    }
   ],
   "source": [
    "print(data_TRV['log_returns_on_Adj_Close'].idxmax())\n",
    "print(data_TRV['log_returns_on_Adj_Close'].idxmin())\n",
    "data_TRV.iloc[1098] #max\n",
    "data_TRV.iloc[588] #min"
   ]
  },
  {
   "cell_type": "code",
   "execution_count": 173,
   "id": "4c40ed22",
   "metadata": {},
   "outputs": [],
   "source": [
    "# Task 5"
   ]
  },
  {
   "cell_type": "code",
   "execution_count": 174,
   "id": "a1adc809",
   "metadata": {},
   "outputs": [],
   "source": [
    "data_CNC = pd.read_csv('/Users/krystofkalhous/Desktop/Python Data IES/MIDTERM/data/CNC.csv', sep = ',', on_bad_lines= 'skip', parse_dates =[\"Date\"], index_col =\"Date\")\n",
    "data_EQR = pd.read_csv('/Users/krystofkalhous/Desktop/Python Data IES/MIDTERM/data/EQR.csv', sep = ',', on_bad_lines= 'skip', parse_dates =[\"Date\"], index_col =\"Date\")\n",
    "data_IVZ = pd.read_csv('/Users/krystofkalhous/Desktop/Python Data IES/MIDTERM/data/IVZ.csv', sep = ',', on_bad_lines= 'skip', parse_dates =[\"Date\"], index_col =\"Date\")\n",
    "data_TRV = pd.read_csv('/Users/krystofkalhous/Desktop/Python Data IES/MIDTERM/data/TRV.csv', sep = ',', on_bad_lines= 'skip', parse_dates =[\"Date\"], index_col =\"Date\")"
   ]
  },
  {
   "cell_type": "code",
   "execution_count": 175,
   "id": "d7a95aad",
   "metadata": {},
   "outputs": [
    {
     "data": {
      "text/html": [
       "<div>\n",
       "<style scoped>\n",
       "    .dataframe tbody tr th:only-of-type {\n",
       "        vertical-align: middle;\n",
       "    }\n",
       "\n",
       "    .dataframe tbody tr th {\n",
       "        vertical-align: top;\n",
       "    }\n",
       "\n",
       "    .dataframe thead th {\n",
       "        text-align: right;\n",
       "    }\n",
       "</style>\n",
       "<table border=\"1\" class=\"dataframe\">\n",
       "  <thead>\n",
       "    <tr style=\"text-align: right;\">\n",
       "      <th></th>\n",
       "      <th>High</th>\n",
       "      <th>Low</th>\n",
       "      <th>Open</th>\n",
       "      <th>Close</th>\n",
       "      <th>Volume</th>\n",
       "      <th>Adj Close</th>\n",
       "    </tr>\n",
       "    <tr>\n",
       "      <th>Date</th>\n",
       "      <th></th>\n",
       "      <th></th>\n",
       "      <th></th>\n",
       "      <th></th>\n",
       "      <th></th>\n",
       "      <th></th>\n",
       "    </tr>\n",
       "  </thead>\n",
       "  <tbody>\n",
       "    <tr>\n",
       "      <th>2017-11-19</th>\n",
       "      <td>47.524999</td>\n",
       "      <td>46.348000</td>\n",
       "      <td>46.804000</td>\n",
       "      <td>47.062000</td>\n",
       "      <td>2560040.0</td>\n",
       "      <td>47.062000</td>\n",
       "    </tr>\n",
       "    <tr>\n",
       "      <th>2017-11-26</th>\n",
       "      <td>48.378750</td>\n",
       "      <td>47.175000</td>\n",
       "      <td>47.636250</td>\n",
       "      <td>47.727499</td>\n",
       "      <td>2107600.0</td>\n",
       "      <td>47.727499</td>\n",
       "    </tr>\n",
       "    <tr>\n",
       "      <th>2017-12-03</th>\n",
       "      <td>50.349001</td>\n",
       "      <td>48.739000</td>\n",
       "      <td>49.409000</td>\n",
       "      <td>49.809999</td>\n",
       "      <td>2713000.0</td>\n",
       "      <td>49.809999</td>\n",
       "    </tr>\n",
       "    <tr>\n",
       "      <th>2017-12-10</th>\n",
       "      <td>50.724001</td>\n",
       "      <td>49.247000</td>\n",
       "      <td>50.086000</td>\n",
       "      <td>49.876000</td>\n",
       "      <td>3043560.0</td>\n",
       "      <td>49.876000</td>\n",
       "    </tr>\n",
       "    <tr>\n",
       "      <th>2017-12-17</th>\n",
       "      <td>50.725999</td>\n",
       "      <td>49.277000</td>\n",
       "      <td>50.399999</td>\n",
       "      <td>49.563000</td>\n",
       "      <td>4137320.0</td>\n",
       "      <td>49.563000</td>\n",
       "    </tr>\n",
       "    <tr>\n",
       "      <th>...</th>\n",
       "      <td>...</td>\n",
       "      <td>...</td>\n",
       "      <td>...</td>\n",
       "      <td>...</td>\n",
       "      <td>...</td>\n",
       "      <td>...</td>\n",
       "    </tr>\n",
       "    <tr>\n",
       "      <th>2022-10-16</th>\n",
       "      <td>75.816002</td>\n",
       "      <td>73.592000</td>\n",
       "      <td>74.736000</td>\n",
       "      <td>74.592001</td>\n",
       "      <td>3865380.0</td>\n",
       "      <td>74.592001</td>\n",
       "    </tr>\n",
       "    <tr>\n",
       "      <th>2022-10-23</th>\n",
       "      <td>76.186000</td>\n",
       "      <td>74.333998</td>\n",
       "      <td>75.560001</td>\n",
       "      <td>74.844000</td>\n",
       "      <td>2974040.0</td>\n",
       "      <td>74.844000</td>\n",
       "    </tr>\n",
       "    <tr>\n",
       "      <th>2022-10-30</th>\n",
       "      <td>83.568001</td>\n",
       "      <td>80.690001</td>\n",
       "      <td>81.078000</td>\n",
       "      <td>82.822000</td>\n",
       "      <td>4322820.0</td>\n",
       "      <td>82.822000</td>\n",
       "    </tr>\n",
       "    <tr>\n",
       "      <th>2022-11-06</th>\n",
       "      <td>86.094000</td>\n",
       "      <td>83.866002</td>\n",
       "      <td>85.298000</td>\n",
       "      <td>84.586000</td>\n",
       "      <td>2914180.0</td>\n",
       "      <td>84.586000</td>\n",
       "    </tr>\n",
       "    <tr>\n",
       "      <th>2022-11-13</th>\n",
       "      <td>84.775999</td>\n",
       "      <td>81.602002</td>\n",
       "      <td>84.009999</td>\n",
       "      <td>83.465999</td>\n",
       "      <td>4076020.0</td>\n",
       "      <td>83.465999</td>\n",
       "    </tr>\n",
       "  </tbody>\n",
       "</table>\n",
       "<p>261 rows × 6 columns</p>\n",
       "</div>"
      ],
      "text/plain": [
       "                 High        Low       Open      Close     Volume  Adj Close\n",
       "Date                                                                        \n",
       "2017-11-19  47.524999  46.348000  46.804000  47.062000  2560040.0  47.062000\n",
       "2017-11-26  48.378750  47.175000  47.636250  47.727499  2107600.0  47.727499\n",
       "2017-12-03  50.349001  48.739000  49.409000  49.809999  2713000.0  49.809999\n",
       "2017-12-10  50.724001  49.247000  50.086000  49.876000  3043560.0  49.876000\n",
       "2017-12-17  50.725999  49.277000  50.399999  49.563000  4137320.0  49.563000\n",
       "...               ...        ...        ...        ...        ...        ...\n",
       "2022-10-16  75.816002  73.592000  74.736000  74.592001  3865380.0  74.592001\n",
       "2022-10-23  76.186000  74.333998  75.560001  74.844000  2974040.0  74.844000\n",
       "2022-10-30  83.568001  80.690001  81.078000  82.822000  4322820.0  82.822000\n",
       "2022-11-06  86.094000  83.866002  85.298000  84.586000  2914180.0  84.586000\n",
       "2022-11-13  84.775999  81.602002  84.009999  83.465999  4076020.0  83.465999\n",
       "\n",
       "[261 rows x 6 columns]"
      ]
     },
     "execution_count": 175,
     "metadata": {},
     "output_type": "execute_result"
    }
   ],
   "source": [
    "weekly_resampled_data_CNC = data_CNC.resample('W').mean() \n",
    "weekly_resampled_data_CNC"
   ]
  },
  {
   "cell_type": "code",
   "execution_count": 176,
   "id": "1b64aac3",
   "metadata": {},
   "outputs": [
    {
     "data": {
      "text/html": [
       "<div>\n",
       "<style scoped>\n",
       "    .dataframe tbody tr th:only-of-type {\n",
       "        vertical-align: middle;\n",
       "    }\n",
       "\n",
       "    .dataframe tbody tr th {\n",
       "        vertical-align: top;\n",
       "    }\n",
       "\n",
       "    .dataframe thead th {\n",
       "        text-align: right;\n",
       "    }\n",
       "</style>\n",
       "<table border=\"1\" class=\"dataframe\">\n",
       "  <thead>\n",
       "    <tr style=\"text-align: right;\">\n",
       "      <th></th>\n",
       "      <th>High</th>\n",
       "      <th>Low</th>\n",
       "      <th>Open</th>\n",
       "      <th>Close</th>\n",
       "      <th>Volume</th>\n",
       "      <th>Adj Close</th>\n",
       "    </tr>\n",
       "    <tr>\n",
       "      <th>Date</th>\n",
       "      <th></th>\n",
       "      <th></th>\n",
       "      <th></th>\n",
       "      <th></th>\n",
       "      <th></th>\n",
       "      <th></th>\n",
       "    </tr>\n",
       "  </thead>\n",
       "  <tbody>\n",
       "    <tr>\n",
       "      <th>2017-11-19</th>\n",
       "      <td>69.881999</td>\n",
       "      <td>68.794000</td>\n",
       "      <td>69.452000</td>\n",
       "      <td>69.340001</td>\n",
       "      <td>1325280.0</td>\n",
       "      <td>60.128786</td>\n",
       "    </tr>\n",
       "    <tr>\n",
       "      <th>2017-11-26</th>\n",
       "      <td>68.482502</td>\n",
       "      <td>67.940001</td>\n",
       "      <td>68.197498</td>\n",
       "      <td>68.092499</td>\n",
       "      <td>1510800.0</td>\n",
       "      <td>59.047003</td>\n",
       "    </tr>\n",
       "    <tr>\n",
       "      <th>2017-12-03</th>\n",
       "      <td>67.528000</td>\n",
       "      <td>66.628000</td>\n",
       "      <td>67.299998</td>\n",
       "      <td>66.923999</td>\n",
       "      <td>1911100.0</td>\n",
       "      <td>58.033732</td>\n",
       "    </tr>\n",
       "    <tr>\n",
       "      <th>2017-12-10</th>\n",
       "      <td>66.067999</td>\n",
       "      <td>65.322002</td>\n",
       "      <td>65.886002</td>\n",
       "      <td>65.634001</td>\n",
       "      <td>1494000.0</td>\n",
       "      <td>56.915099</td>\n",
       "    </tr>\n",
       "    <tr>\n",
       "      <th>2017-12-17</th>\n",
       "      <td>66.176001</td>\n",
       "      <td>65.468001</td>\n",
       "      <td>65.930000</td>\n",
       "      <td>65.782001</td>\n",
       "      <td>2103660.0</td>\n",
       "      <td>57.043439</td>\n",
       "    </tr>\n",
       "    <tr>\n",
       "      <th>...</th>\n",
       "      <td>...</td>\n",
       "      <td>...</td>\n",
       "      <td>...</td>\n",
       "      <td>...</td>\n",
       "      <td>...</td>\n",
       "      <td>...</td>\n",
       "    </tr>\n",
       "    <tr>\n",
       "      <th>2022-10-16</th>\n",
       "      <td>63.736001</td>\n",
       "      <td>61.600000</td>\n",
       "      <td>62.706001</td>\n",
       "      <td>62.582000</td>\n",
       "      <td>2142040.0</td>\n",
       "      <td>62.582000</td>\n",
       "    </tr>\n",
       "    <tr>\n",
       "      <th>2022-10-23</th>\n",
       "      <td>64.770001</td>\n",
       "      <td>63.292001</td>\n",
       "      <td>63.964001</td>\n",
       "      <td>64.128001</td>\n",
       "      <td>1497900.0</td>\n",
       "      <td>64.128001</td>\n",
       "    </tr>\n",
       "    <tr>\n",
       "      <th>2022-10-30</th>\n",
       "      <td>65.238001</td>\n",
       "      <td>62.977999</td>\n",
       "      <td>64.168001</td>\n",
       "      <td>63.914001</td>\n",
       "      <td>2569080.0</td>\n",
       "      <td>63.914001</td>\n",
       "    </tr>\n",
       "    <tr>\n",
       "      <th>2022-11-06</th>\n",
       "      <td>63.077999</td>\n",
       "      <td>61.322000</td>\n",
       "      <td>62.370000</td>\n",
       "      <td>62.152000</td>\n",
       "      <td>1924940.0</td>\n",
       "      <td>62.152000</td>\n",
       "    </tr>\n",
       "    <tr>\n",
       "      <th>2022-11-13</th>\n",
       "      <td>62.298000</td>\n",
       "      <td>60.554000</td>\n",
       "      <td>61.654001</td>\n",
       "      <td>61.336000</td>\n",
       "      <td>2116460.0</td>\n",
       "      <td>61.336000</td>\n",
       "    </tr>\n",
       "  </tbody>\n",
       "</table>\n",
       "<p>261 rows × 6 columns</p>\n",
       "</div>"
      ],
      "text/plain": [
       "                 High        Low       Open      Close     Volume  Adj Close\n",
       "Date                                                                        \n",
       "2017-11-19  69.881999  68.794000  69.452000  69.340001  1325280.0  60.128786\n",
       "2017-11-26  68.482502  67.940001  68.197498  68.092499  1510800.0  59.047003\n",
       "2017-12-03  67.528000  66.628000  67.299998  66.923999  1911100.0  58.033732\n",
       "2017-12-10  66.067999  65.322002  65.886002  65.634001  1494000.0  56.915099\n",
       "2017-12-17  66.176001  65.468001  65.930000  65.782001  2103660.0  57.043439\n",
       "...               ...        ...        ...        ...        ...        ...\n",
       "2022-10-16  63.736001  61.600000  62.706001  62.582000  2142040.0  62.582000\n",
       "2022-10-23  64.770001  63.292001  63.964001  64.128001  1497900.0  64.128001\n",
       "2022-10-30  65.238001  62.977999  64.168001  63.914001  2569080.0  63.914001\n",
       "2022-11-06  63.077999  61.322000  62.370000  62.152000  1924940.0  62.152000\n",
       "2022-11-13  62.298000  60.554000  61.654001  61.336000  2116460.0  61.336000\n",
       "\n",
       "[261 rows x 6 columns]"
      ]
     },
     "execution_count": 176,
     "metadata": {},
     "output_type": "execute_result"
    }
   ],
   "source": [
    "weekly_resampled_data_EQR = data_EQR.resample('W').mean() \n",
    "weekly_resampled_data_EQR"
   ]
  },
  {
   "cell_type": "code",
   "execution_count": 177,
   "id": "da00fee1",
   "metadata": {},
   "outputs": [
    {
     "data": {
      "text/html": [
       "<div>\n",
       "<style scoped>\n",
       "    .dataframe tbody tr th:only-of-type {\n",
       "        vertical-align: middle;\n",
       "    }\n",
       "\n",
       "    .dataframe tbody tr th {\n",
       "        vertical-align: top;\n",
       "    }\n",
       "\n",
       "    .dataframe thead th {\n",
       "        text-align: right;\n",
       "    }\n",
       "</style>\n",
       "<table border=\"1\" class=\"dataframe\">\n",
       "  <thead>\n",
       "    <tr style=\"text-align: right;\">\n",
       "      <th></th>\n",
       "      <th>High</th>\n",
       "      <th>Low</th>\n",
       "      <th>Open</th>\n",
       "      <th>Close</th>\n",
       "      <th>Volume</th>\n",
       "      <th>Adj Close</th>\n",
       "    </tr>\n",
       "    <tr>\n",
       "      <th>Date</th>\n",
       "      <th></th>\n",
       "      <th></th>\n",
       "      <th></th>\n",
       "      <th></th>\n",
       "      <th></th>\n",
       "      <th></th>\n",
       "    </tr>\n",
       "  </thead>\n",
       "  <tbody>\n",
       "    <tr>\n",
       "      <th>2017-11-19</th>\n",
       "      <td>34.789999</td>\n",
       "      <td>34.285999</td>\n",
       "      <td>34.454000</td>\n",
       "      <td>34.604000</td>\n",
       "      <td>2791080.0</td>\n",
       "      <td>27.623697</td>\n",
       "    </tr>\n",
       "    <tr>\n",
       "      <th>2017-11-26</th>\n",
       "      <td>35.735001</td>\n",
       "      <td>35.164999</td>\n",
       "      <td>35.424999</td>\n",
       "      <td>35.352500</td>\n",
       "      <td>1782800.0</td>\n",
       "      <td>28.221212</td>\n",
       "    </tr>\n",
       "    <tr>\n",
       "      <th>2017-12-03</th>\n",
       "      <td>36.221999</td>\n",
       "      <td>35.400000</td>\n",
       "      <td>35.873999</td>\n",
       "      <td>35.935999</td>\n",
       "      <td>3116280.0</td>\n",
       "      <td>28.687010</td>\n",
       "    </tr>\n",
       "    <tr>\n",
       "      <th>2017-12-10</th>\n",
       "      <td>37.402000</td>\n",
       "      <td>36.767999</td>\n",
       "      <td>36.926000</td>\n",
       "      <td>37.122000</td>\n",
       "      <td>2102960.0</td>\n",
       "      <td>29.633767</td>\n",
       "    </tr>\n",
       "    <tr>\n",
       "      <th>2017-12-17</th>\n",
       "      <td>37.394000</td>\n",
       "      <td>36.730000</td>\n",
       "      <td>37.098000</td>\n",
       "      <td>36.874000</td>\n",
       "      <td>3354760.0</td>\n",
       "      <td>29.435799</td>\n",
       "    </tr>\n",
       "    <tr>\n",
       "      <th>...</th>\n",
       "      <td>...</td>\n",
       "      <td>...</td>\n",
       "      <td>...</td>\n",
       "      <td>...</td>\n",
       "      <td>...</td>\n",
       "      <td>...</td>\n",
       "    </tr>\n",
       "    <tr>\n",
       "      <th>2022-10-16</th>\n",
       "      <td>14.540000</td>\n",
       "      <td>13.828000</td>\n",
       "      <td>14.200000</td>\n",
       "      <td>14.244000</td>\n",
       "      <td>5137660.0</td>\n",
       "      <td>14.244000</td>\n",
       "    </tr>\n",
       "    <tr>\n",
       "      <th>2022-10-23</th>\n",
       "      <td>14.992000</td>\n",
       "      <td>14.466000</td>\n",
       "      <td>14.732000</td>\n",
       "      <td>14.716000</td>\n",
       "      <td>4675000.0</td>\n",
       "      <td>14.716000</td>\n",
       "    </tr>\n",
       "    <tr>\n",
       "      <th>2022-10-30</th>\n",
       "      <td>15.336000</td>\n",
       "      <td>14.756000</td>\n",
       "      <td>15.038000</td>\n",
       "      <td>15.152000</td>\n",
       "      <td>6401160.0</td>\n",
       "      <td>15.152000</td>\n",
       "    </tr>\n",
       "    <tr>\n",
       "      <th>2022-11-06</th>\n",
       "      <td>15.668000</td>\n",
       "      <td>15.212000</td>\n",
       "      <td>15.392000</td>\n",
       "      <td>15.420000</td>\n",
       "      <td>5831340.0</td>\n",
       "      <td>15.420000</td>\n",
       "    </tr>\n",
       "    <tr>\n",
       "      <th>2022-11-13</th>\n",
       "      <td>17.594000</td>\n",
       "      <td>16.638000</td>\n",
       "      <td>16.788000</td>\n",
       "      <td>17.426000</td>\n",
       "      <td>7679520.0</td>\n",
       "      <td>17.426000</td>\n",
       "    </tr>\n",
       "  </tbody>\n",
       "</table>\n",
       "<p>261 rows × 6 columns</p>\n",
       "</div>"
      ],
      "text/plain": [
       "                 High        Low       Open      Close     Volume  Adj Close\n",
       "Date                                                                        \n",
       "2017-11-19  34.789999  34.285999  34.454000  34.604000  2791080.0  27.623697\n",
       "2017-11-26  35.735001  35.164999  35.424999  35.352500  1782800.0  28.221212\n",
       "2017-12-03  36.221999  35.400000  35.873999  35.935999  3116280.0  28.687010\n",
       "2017-12-10  37.402000  36.767999  36.926000  37.122000  2102960.0  29.633767\n",
       "2017-12-17  37.394000  36.730000  37.098000  36.874000  3354760.0  29.435799\n",
       "...               ...        ...        ...        ...        ...        ...\n",
       "2022-10-16  14.540000  13.828000  14.200000  14.244000  5137660.0  14.244000\n",
       "2022-10-23  14.992000  14.466000  14.732000  14.716000  4675000.0  14.716000\n",
       "2022-10-30  15.336000  14.756000  15.038000  15.152000  6401160.0  15.152000\n",
       "2022-11-06  15.668000  15.212000  15.392000  15.420000  5831340.0  15.420000\n",
       "2022-11-13  17.594000  16.638000  16.788000  17.426000  7679520.0  17.426000\n",
       "\n",
       "[261 rows x 6 columns]"
      ]
     },
     "execution_count": 177,
     "metadata": {},
     "output_type": "execute_result"
    }
   ],
   "source": [
    "weekly_resampled_data_IVZ = data_IVZ.resample('W').mean() \n",
    "weekly_resampled_data_IVZ"
   ]
  },
  {
   "cell_type": "code",
   "execution_count": 178,
   "id": "a1cd5c33",
   "metadata": {},
   "outputs": [
    {
     "data": {
      "text/html": [
       "<div>\n",
       "<style scoped>\n",
       "    .dataframe tbody tr th:only-of-type {\n",
       "        vertical-align: middle;\n",
       "    }\n",
       "\n",
       "    .dataframe tbody tr th {\n",
       "        vertical-align: top;\n",
       "    }\n",
       "\n",
       "    .dataframe thead th {\n",
       "        text-align: right;\n",
       "    }\n",
       "</style>\n",
       "<table border=\"1\" class=\"dataframe\">\n",
       "  <thead>\n",
       "    <tr style=\"text-align: right;\">\n",
       "      <th></th>\n",
       "      <th>High</th>\n",
       "      <th>Low</th>\n",
       "      <th>Open</th>\n",
       "      <th>Close</th>\n",
       "      <th>Volume</th>\n",
       "      <th>Adj Close</th>\n",
       "    </tr>\n",
       "    <tr>\n",
       "      <th>Date</th>\n",
       "      <th></th>\n",
       "      <th></th>\n",
       "      <th></th>\n",
       "      <th></th>\n",
       "      <th></th>\n",
       "      <th></th>\n",
       "    </tr>\n",
       "  </thead>\n",
       "  <tbody>\n",
       "    <tr>\n",
       "      <th>2017-11-19</th>\n",
       "      <td>133.593997</td>\n",
       "      <td>131.604001</td>\n",
       "      <td>133.036002</td>\n",
       "      <td>132.324002</td>\n",
       "      <td>2228140.0</td>\n",
       "      <td>119.633118</td>\n",
       "    </tr>\n",
       "    <tr>\n",
       "      <th>2017-11-26</th>\n",
       "      <td>130.570000</td>\n",
       "      <td>129.532501</td>\n",
       "      <td>130.195000</td>\n",
       "      <td>130.060001</td>\n",
       "      <td>944825.0</td>\n",
       "      <td>117.586254</td>\n",
       "    </tr>\n",
       "    <tr>\n",
       "      <th>2017-12-03</th>\n",
       "      <td>134.406000</td>\n",
       "      <td>132.128003</td>\n",
       "      <td>133.063998</td>\n",
       "      <td>133.960001</td>\n",
       "      <td>1937160.0</td>\n",
       "      <td>121.112215</td>\n",
       "    </tr>\n",
       "    <tr>\n",
       "      <th>2017-12-10</th>\n",
       "      <td>136.059998</td>\n",
       "      <td>134.559998</td>\n",
       "      <td>135.263998</td>\n",
       "      <td>135.000003</td>\n",
       "      <td>1372640.0</td>\n",
       "      <td>122.182918</td>\n",
       "    </tr>\n",
       "    <tr>\n",
       "      <th>2017-12-17</th>\n",
       "      <td>134.496002</td>\n",
       "      <td>132.656000</td>\n",
       "      <td>133.667999</td>\n",
       "      <td>133.708002</td>\n",
       "      <td>1650280.0</td>\n",
       "      <td>121.536392</td>\n",
       "    </tr>\n",
       "    <tr>\n",
       "      <th>...</th>\n",
       "      <td>...</td>\n",
       "      <td>...</td>\n",
       "      <td>...</td>\n",
       "      <td>...</td>\n",
       "      <td>...</td>\n",
       "      <td>...</td>\n",
       "    </tr>\n",
       "    <tr>\n",
       "      <th>2022-10-16</th>\n",
       "      <td>163.065997</td>\n",
       "      <td>158.095999</td>\n",
       "      <td>159.428003</td>\n",
       "      <td>160.982001</td>\n",
       "      <td>1302040.0</td>\n",
       "      <td>160.982001</td>\n",
       "    </tr>\n",
       "    <tr>\n",
       "      <th>2022-10-23</th>\n",
       "      <td>171.714001</td>\n",
       "      <td>167.396002</td>\n",
       "      <td>169.079999</td>\n",
       "      <td>170.567999</td>\n",
       "      <td>1696200.0</td>\n",
       "      <td>170.567999</td>\n",
       "    </tr>\n",
       "    <tr>\n",
       "      <th>2022-10-30</th>\n",
       "      <td>179.582001</td>\n",
       "      <td>176.482001</td>\n",
       "      <td>177.681998</td>\n",
       "      <td>178.367999</td>\n",
       "      <td>1705940.0</td>\n",
       "      <td>178.367999</td>\n",
       "    </tr>\n",
       "    <tr>\n",
       "      <th>2022-11-06</th>\n",
       "      <td>184.639999</td>\n",
       "      <td>181.457999</td>\n",
       "      <td>182.997998</td>\n",
       "      <td>182.886002</td>\n",
       "      <td>1548520.0</td>\n",
       "      <td>182.886002</td>\n",
       "    </tr>\n",
       "    <tr>\n",
       "      <th>2022-11-13</th>\n",
       "      <td>185.311996</td>\n",
       "      <td>181.942001</td>\n",
       "      <td>184.393997</td>\n",
       "      <td>183.241998</td>\n",
       "      <td>1295580.0</td>\n",
       "      <td>183.241998</td>\n",
       "    </tr>\n",
       "  </tbody>\n",
       "</table>\n",
       "<p>261 rows × 6 columns</p>\n",
       "</div>"
      ],
      "text/plain": [
       "                  High         Low        Open       Close     Volume  \\\n",
       "Date                                                                    \n",
       "2017-11-19  133.593997  131.604001  133.036002  132.324002  2228140.0   \n",
       "2017-11-26  130.570000  129.532501  130.195000  130.060001   944825.0   \n",
       "2017-12-03  134.406000  132.128003  133.063998  133.960001  1937160.0   \n",
       "2017-12-10  136.059998  134.559998  135.263998  135.000003  1372640.0   \n",
       "2017-12-17  134.496002  132.656000  133.667999  133.708002  1650280.0   \n",
       "...                ...         ...         ...         ...        ...   \n",
       "2022-10-16  163.065997  158.095999  159.428003  160.982001  1302040.0   \n",
       "2022-10-23  171.714001  167.396002  169.079999  170.567999  1696200.0   \n",
       "2022-10-30  179.582001  176.482001  177.681998  178.367999  1705940.0   \n",
       "2022-11-06  184.639999  181.457999  182.997998  182.886002  1548520.0   \n",
       "2022-11-13  185.311996  181.942001  184.393997  183.241998  1295580.0   \n",
       "\n",
       "             Adj Close  \n",
       "Date                    \n",
       "2017-11-19  119.633118  \n",
       "2017-11-26  117.586254  \n",
       "2017-12-03  121.112215  \n",
       "2017-12-10  122.182918  \n",
       "2017-12-17  121.536392  \n",
       "...                ...  \n",
       "2022-10-16  160.982001  \n",
       "2022-10-23  170.567999  \n",
       "2022-10-30  178.367999  \n",
       "2022-11-06  182.886002  \n",
       "2022-11-13  183.241998  \n",
       "\n",
       "[261 rows x 6 columns]"
      ]
     },
     "execution_count": 178,
     "metadata": {},
     "output_type": "execute_result"
    }
   ],
   "source": [
    "weekly_resampled_data_TRV = data_TRV.resample('W').mean() \n",
    "weekly_resampled_data_TRV"
   ]
  },
  {
   "cell_type": "code",
   "execution_count": 179,
   "id": "4407bf1c",
   "metadata": {},
   "outputs": [],
   "source": [
    "# Task 6"
   ]
  },
  {
   "cell_type": "code",
   "execution_count": 180,
   "id": "869f53cc",
   "metadata": {},
   "outputs": [
    {
     "name": "stdout",
     "output_type": "stream",
     "text": [
      "5087452800.0\n",
      "2474751000.0\n",
      "6231631000.0\n",
      "1858342500.0\n"
     ]
    }
   ],
   "source": [
    "Total_CNC = data_CNC['Volume'].sum()\n",
    "print(Total_CNC)\n",
    "Total_EQR = data_EQR['Volume'].sum()\n",
    "print(Total_EQR)\n",
    "Total_IVZ = data_IVZ['Volume'].sum()\n",
    "print(Total_IVZ)\n",
    "Total_TRV = data_TRV['Volume'].sum()\n",
    "print(Total_TRV)\n",
    "\n",
    "# Hence IVZ"
   ]
  },
  {
   "cell_type": "code",
   "execution_count": 181,
   "id": "f90ec0f5",
   "metadata": {},
   "outputs": [],
   "source": [
    "# Task 7\n",
    "# now working with the 1st loaded version of data"
   ]
  },
  {
   "cell_type": "code",
   "execution_count": 185,
   "id": "64ef0477",
   "metadata": {},
   "outputs": [],
   "source": [
    "data_CNC['log_returns_on_Adj_Close'] = np.log2(data_CNC['Adj Close'])\n",
    "data_EQR['log_returns_on_Adj_Close'] = np.log2(data_EQR['Adj Close'])\n",
    "data_IVZ['log_returns_on_Adj_Close'] = np.log2(data_IVZ['Adj Close'])\n",
    "data_TRV['log_returns_on_Adj_Close'] = np.log2(data_TRV['Adj Close'])"
   ]
  },
  {
   "cell_type": "code",
   "execution_count": 196,
   "id": "6404da74",
   "metadata": {},
   "outputs": [
    {
     "data": {
      "text/plain": [
       "<Axes: xlabel='Date'>"
      ]
     },
     "execution_count": 196,
     "metadata": {},
     "output_type": "execute_result"
    },
    {
     "data": {
      "image/png": "[encoded data removed]",
      "text/plain": [
       "<Figure size 640x480 with 1 Axes>"
      ]
     },
     "metadata": {},
     "output_type": "display_data"
    }
   ],
   "source": [
    "data_CNC.log_returns_on_Adj_Close.plot.line()"
   ]
  },
  {
   "cell_type": "code",
   "execution_count": 197,
   "id": "c184fbe0",
   "metadata": {},
   "outputs": [
    {
     "data": {
      "text/plain": [
       "<Axes: xlabel='Date'>"
      ]
     },
     "execution_count": 197,
     "metadata": {},
     "output_type": "execute_result"
    },
    {
     "data": {
      "image/png": "[encoded data removed]",
      "text/plain": [
       "<Figure size 640x480 with 1 Axes>"
      ]
     },
     "metadata": {},
     "output_type": "display_data"
    }
   ],
   "source": [
    "data_EQR.log_returns_on_Adj_Close.plot.line()"
   ]
  },
  {
   "cell_type": "code",
   "execution_count": 198,
   "id": "0b062999",
   "metadata": {},
   "outputs": [
    {
     "data": {
      "text/plain": [
       "<Axes: xlabel='Date'>"
      ]
     },
     "execution_count": 198,
     "metadata": {},
     "output_type": "execute_result"
    },
    {
     "data": {
      "image/png": "[encoded data removed]",
      "text/plain": [
       "<Figure size 640x480 with 1 Axes>"
      ]
     },
     "metadata": {},
     "output_type": "display_data"
    }
   ],
   "source": [
    "data_IVZ.log_returns_on_Adj_Close.plot.line()"
   ]
  },
  {
   "cell_type": "code",
   "execution_count": 199,
   "id": "09211000",
   "metadata": {},
   "outputs": [
    {
     "data": {
      "text/plain": [
       "<Axes: xlabel='Date'>"
      ]
     },
     "execution_count": 199,
     "metadata": {},
     "output_type": "execute_result"
    },
    {
     "data": {
      "image/png": "[encoded data removed]",
      "text/plain": [
       "<Figure size 640x480 with 1 Axes>"
      ]
     },
     "metadata": {},
     "output_type": "display_data"
    }
   ],
   "source": [
    "data_TRV.log_returns_on_Adj_Close.plot.line()"
   ]
  },
  {
   "cell_type": "code",
   "execution_count": null,
   "id": "fd2ae0f3",
   "metadata": {},
   "outputs": [],
   "source": [
    "# Task 8"
   ]
  },
  {
   "cell_type": "code",
   "execution_count": 200,
   "id": "a4fabcc3",
   "metadata": {},
   "outputs": [
    {
     "data": {
      "text/plain": [
       "<Axes: ylabel='Frequency'>"
      ]
     },
     "execution_count": 200,
     "metadata": {},
     "output_type": "execute_result"
    },
    {
     "data": {
      "image/png": "[encoded data removed]",
      "text/plain": [
       "<Figure size 640x480 with 1 Axes>"
      ]
     },
     "metadata": {},
     "output_type": "display_data"
    }
   ],
   "source": [
    "data_CNC.log_returns_on_Adj_Close.plot.hist()"
   ]
  },
  {
   "cell_type": "code",
   "execution_count": 202,
   "id": "ecb9f8e9",
   "metadata": {},
   "outputs": [
    {
     "data": {
      "text/plain": [
       "<Axes: ylabel='Frequency'>"
      ]
     },
     "execution_count": 202,
     "metadata": {},
     "output_type": "execute_result"
    },
    {
     "data": {
      "image/png": "[encoded data removed]",
      "text/plain": [
       "<Figure size 640x480 with 1 Axes>"
      ]
     },
     "metadata": {},
     "output_type": "display_data"
    }
   ],
   "source": [
    "data_EQR.log_returns_on_Adj_Close.plot.hist()"
   ]
  },
  {
   "cell_type": "code",
   "execution_count": 203,
   "id": "fbc85c1f",
   "metadata": {},
   "outputs": [
    {
     "data": {
      "text/plain": [
       "<Axes: ylabel='Frequency'>"
      ]
     },
     "execution_count": 203,
     "metadata": {},
     "output_type": "execute_result"
    },
    {
     "data": {
      "image/png": "[encoded data removed]",
      "text/plain": [
       "<Figure size 640x480 with 1 Axes>"
      ]
     },
     "metadata": {},
     "output_type": "display_data"
    }
   ],
   "source": [
    "data_IVZ.log_returns_on_Adj_Close.plot.hist()"
   ]
  },
  {
   "cell_type": "code",
   "execution_count": 204,
   "id": "ecb7540c",
   "metadata": {},
   "outputs": [
    {
     "data": {
      "text/plain": [
       "<Axes: ylabel='Frequency'>"
      ]
     },
     "execution_count": 204,
     "metadata": {},
     "output_type": "execute_result"
    },
    {
     "data": {
      "image/png": "[encoded data removed]",
      "text/plain": [
       "<Figure size 640x480 with 1 Axes>"
      ]
     },
     "metadata": {},
     "output_type": "display_data"
    }
   ],
   "source": [
    "data_TRV.log_returns_on_Adj_Close.plot.hist()"
   ]
  }
 ],
 "metadata": {
  "kernelspec": {
   "display_name": "Python 3 (ipykernel)",
   "language": "python",
   "name": "python3"
  },
  "language_info": {
   "codemirror_mode": {
    "name": "ipython",
    "version": 3
   },
   "file_extension": ".py",
   "mimetype": "text/x-python",
   "name": "python",
   "nbconvert_exporter": "python",
   "pygments_lexer": "ipython3",
   "version": "3.11.5"
  }
 },
 "nbformat": 4,
 "nbformat_minor": 5
}
